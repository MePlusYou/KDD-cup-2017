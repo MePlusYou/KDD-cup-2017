{
 "cells": [
  {
   "cell_type": "code",
   "execution_count": 1,
   "metadata": {
    "collapsed": false
   },
   "outputs": [],
   "source": [
    "# -*- coding:utf-8 -*-\n",
    "# First, we'll import pandas, a data processing and CSV file I/O library\n",
    "import pandas as pd\n",
    "\n",
    "# We'll also import seaborn, a Python graphing library\n",
    "import warnings # current version of seaborn generates a bunch of warnings that we'll ignore\n",
    "warnings.filterwarnings(\"ignore\")\n",
    "import seaborn as sns\n",
    "import matplotlib.pyplot as plt\n",
    "sns.set(style=\"white\", color_codes=True)"
   ]
  },
  {
   "cell_type": "code",
   "execution_count": 2,
   "metadata": {
    "collapsed": false
   },
   "outputs": [],
   "source": [
    "train_avg_time = pd.read_csv('E:\\Competetion\\KDD-cup-2017\\\\code\\data_pre\\\\training_20min_avg_travel_time.csv')"
   ]
  },
  {
   "cell_type": "code",
   "execution_count": 3,
   "metadata": {
    "collapsed": false
   },
   "outputs": [
    {
     "data": {
      "text/html": [
       "<div>\n",
       "<table border=\"1\" class=\"dataframe\">\n",
       "  <thead>\n",
       "    <tr style=\"text-align: right;\">\n",
       "      <th></th>\n",
       "      <th>intersection_id</th>\n",
       "      <th>tollgate_id</th>\n",
       "      <th>time_window</th>\n",
       "      <th>avg_travel_time</th>\n",
       "    </tr>\n",
       "  </thead>\n",
       "  <tbody>\n",
       "    <tr>\n",
       "      <th>0</th>\n",
       "      <td>B</td>\n",
       "      <td>3</td>\n",
       "      <td>[2016-07-19 00:00:00,2016-07-19 00:20:00)</td>\n",
       "      <td>70.85</td>\n",
       "    </tr>\n",
       "    <tr>\n",
       "      <th>1</th>\n",
       "      <td>B</td>\n",
       "      <td>3</td>\n",
       "      <td>[2016-07-19 00:20:00,2016-07-19 00:40:00)</td>\n",
       "      <td>148.79</td>\n",
       "    </tr>\n",
       "    <tr>\n",
       "      <th>2</th>\n",
       "      <td>B</td>\n",
       "      <td>3</td>\n",
       "      <td>[2016-07-19 01:40:00,2016-07-19 02:00:00)</td>\n",
       "      <td>93.72</td>\n",
       "    </tr>\n",
       "    <tr>\n",
       "      <th>3</th>\n",
       "      <td>B</td>\n",
       "      <td>3</td>\n",
       "      <td>[2016-07-19 02:00:00,2016-07-19 02:20:00)</td>\n",
       "      <td>67.81</td>\n",
       "    </tr>\n",
       "    <tr>\n",
       "      <th>4</th>\n",
       "      <td>B</td>\n",
       "      <td>3</td>\n",
       "      <td>[2016-07-19 02:40:00,2016-07-19 03:00:00)</td>\n",
       "      <td>167.55</td>\n",
       "    </tr>\n",
       "  </tbody>\n",
       "</table>\n",
       "</div>"
      ],
      "text/plain": [
       "  intersection_id  tollgate_id                                time_window  \\\n",
       "0               B            3  [2016-07-19 00:00:00,2016-07-19 00:20:00)   \n",
       "1               B            3  [2016-07-19 00:20:00,2016-07-19 00:40:00)   \n",
       "2               B            3  [2016-07-19 01:40:00,2016-07-19 02:00:00)   \n",
       "3               B            3  [2016-07-19 02:00:00,2016-07-19 02:20:00)   \n",
       "4               B            3  [2016-07-19 02:40:00,2016-07-19 03:00:00)   \n",
       "\n",
       "   avg_travel_time  \n",
       "0            70.85  \n",
       "1           148.79  \n",
       "2            93.72  \n",
       "3            67.81  \n",
       "4           167.55  "
      ]
     },
     "execution_count": 3,
     "metadata": {},
     "output_type": "execute_result"
    }
   ],
   "source": [
    "train_avg_time.head()"
   ]
  },
  {
   "cell_type": "code",
   "execution_count": 4,
   "metadata": {
    "collapsed": false
   },
   "outputs": [],
   "source": [
    "path_table5 = 'E:\\Competetion\\KDD-cup-2017\\KDD_OFFICIAL_DATA\\dataSets\\\\training\\\\trajectories(table 5)_training.csv'"
   ]
  },
  {
   "cell_type": "code",
   "execution_count": 5,
   "metadata": {
    "collapsed": false
   },
   "outputs": [],
   "source": [
    "table5 = pd.read_csv(path_table5)"
   ]
  },
  {
   "cell_type": "code",
   "execution_count": 6,
   "metadata": {
    "collapsed": false
   },
   "outputs": [
    {
     "data": {
      "text/html": [
       "<div>\n",
       "<table border=\"1\" class=\"dataframe\">\n",
       "  <thead>\n",
       "    <tr style=\"text-align: right;\">\n",
       "      <th></th>\n",
       "      <th>intersection_id</th>\n",
       "      <th>tollgate_id</th>\n",
       "      <th>vehicle_id</th>\n",
       "      <th>starting_time</th>\n",
       "      <th>travel_seq</th>\n",
       "      <th>travel_time</th>\n",
       "    </tr>\n",
       "  </thead>\n",
       "  <tbody>\n",
       "    <tr>\n",
       "      <th>0</th>\n",
       "      <td>B</td>\n",
       "      <td>3</td>\n",
       "      <td>1065642</td>\n",
       "      <td>2016-07-19 00:14:24</td>\n",
       "      <td>105#2016-07-19 00:14:24#9.56;100#2016-07-19 00...</td>\n",
       "      <td>70.85</td>\n",
       "    </tr>\n",
       "    <tr>\n",
       "      <th>1</th>\n",
       "      <td>B</td>\n",
       "      <td>3</td>\n",
       "      <td>1047198</td>\n",
       "      <td>2016-07-19 00:35:56</td>\n",
       "      <td>105#2016-07-19 00:35:56#11.58;100#2016-07-19 0...</td>\n",
       "      <td>148.79</td>\n",
       "    </tr>\n",
       "    <tr>\n",
       "      <th>2</th>\n",
       "      <td>B</td>\n",
       "      <td>1</td>\n",
       "      <td>1086390</td>\n",
       "      <td>2016-07-19 00:37:15</td>\n",
       "      <td>105#2016-07-19 00:37:15#5.26;100#2016-07-19 00...</td>\n",
       "      <td>79.76</td>\n",
       "    </tr>\n",
       "    <tr>\n",
       "      <th>3</th>\n",
       "      <td>A</td>\n",
       "      <td>2</td>\n",
       "      <td>1071181</td>\n",
       "      <td>2016-07-19 00:37:59</td>\n",
       "      <td>110#2016-07-19 00:37:59#13.74;123#2016-07-19 0...</td>\n",
       "      <td>58.05</td>\n",
       "    </tr>\n",
       "    <tr>\n",
       "      <th>4</th>\n",
       "      <td>B</td>\n",
       "      <td>1</td>\n",
       "      <td>1065807</td>\n",
       "      <td>2016-07-19 00:56:21</td>\n",
       "      <td>105#2016-07-19 00:56:21#16.08;100#2016-07-19 0...</td>\n",
       "      <td>137.98</td>\n",
       "    </tr>\n",
       "  </tbody>\n",
       "</table>\n",
       "</div>"
      ],
      "text/plain": [
       "  intersection_id  tollgate_id  vehicle_id        starting_time  \\\n",
       "0               B            3     1065642  2016-07-19 00:14:24   \n",
       "1               B            3     1047198  2016-07-19 00:35:56   \n",
       "2               B            1     1086390  2016-07-19 00:37:15   \n",
       "3               A            2     1071181  2016-07-19 00:37:59   \n",
       "4               B            1     1065807  2016-07-19 00:56:21   \n",
       "\n",
       "                                          travel_seq  travel_time  \n",
       "0  105#2016-07-19 00:14:24#9.56;100#2016-07-19 00...        70.85  \n",
       "1  105#2016-07-19 00:35:56#11.58;100#2016-07-19 0...       148.79  \n",
       "2  105#2016-07-19 00:37:15#5.26;100#2016-07-19 00...        79.76  \n",
       "3  110#2016-07-19 00:37:59#13.74;123#2016-07-19 0...        58.05  \n",
       "4  105#2016-07-19 00:56:21#16.08;100#2016-07-19 0...       137.98  "
      ]
     },
     "execution_count": 6,
     "metadata": {},
     "output_type": "execute_result"
    }
   ],
   "source": [
    "table5.head()"
   ]
  },
  {
   "cell_type": "code",
   "execution_count": 7,
   "metadata": {
    "collapsed": true
   },
   "outputs": [],
   "source": [
    "travel_seq = table5['travel_seq']"
   ]
  },
  {
   "cell_type": "code",
   "execution_count": 104,
   "metadata": {
    "collapsed": false
   },
   "outputs": [
    {
     "name": "stdout",
     "output_type": "stream",
     "text": [
      "['105#2016-07-19 00:14:24#9.56', '100#2016-07-19 00:14:34#6.75', '111#2016-07-19 00:14:41#13.00', '103#2016-07-19 00:14:54#7.47', '122#2016-07-19 00:15:02#32.85']\n",
      "['105#2016-07-19 00:35:56#11.58', '100#2016-07-19 00:36:08#7.44', '111#2016-07-19 00:36:15#16.23', '103#2016-07-19 00:36:32#5.95', '122#2016-07-19 00:36:40#104.79']\n",
      "['105#2016-07-19 00:37:15#5.26', '100#2016-07-19 00:37:20#2.85', '111#2016-07-19 00:37:23#5.94', '103#2016-07-19 00:37:29#1.13', '116#2016-07-19 00:37:30#10.07', '101#2016-07-19 00:37:40#5.27', '121#2016-07-19 00:37:46#25.51', '106#2016-07-19 00:38:11#3.42', '113#2016-07-19 00:38:15#19.76']\n"
     ]
    }
   ],
   "source": [
    "# test code \n",
    "import numpy as np\n",
    "from datetime import datetime,timedelta\n",
    "import math\n",
    "test_0=travel_seq[0].split(';')\n",
    "test_1=travel_seq[1].split(';')\n",
    "test_2=travel_seq[2].split(';')\n",
    "all = {}\n",
    "print test_0\n",
    "print test_1\n",
    "print test_2"
   ]
  },
  {
   "cell_type": "code",
   "execution_count": 100,
   "metadata": {
    "collapsed": false
   },
   "outputs": [
    {
     "name": "stdout",
     "output_type": "stream",
     "text": [
      "['105', '2016-07-19 00:14:24', '9.56']\n",
      "['100', '2016-07-19 00:14:34', '6.75']\n",
      "['111', '2016-07-19 00:14:41', '13.00']\n",
      "['103', '2016-07-19 00:14:54', '7.47']\n",
      "['122', '2016-07-19 00:15:02', '32.85']\n",
      "['105', '2016-07-19 00:35:56', '11.58']\n",
      "['100', '2016-07-19 00:36:08', '7.44']\n",
      "['111', '2016-07-19 00:36:15', '16.23']\n",
      "['103', '2016-07-19 00:36:32', '5.95']\n",
      "['122', '2016-07-19 00:36:40', '104.79']\n",
      "['105', '2016-07-19 00:37:15', '5.26']\n",
      "['100', '2016-07-19 00:37:20', '2.85']\n",
      "['111', '2016-07-19 00:37:23', '5.94']\n",
      "['103', '2016-07-19 00:37:29', '1.13']\n",
      "['116', '2016-07-19 00:37:30', '10.07']\n",
      "['101', '2016-07-19 00:37:40', '5.27']\n",
      "['121', '2016-07-19 00:37:46', '25.51']\n",
      "['106', '2016-07-19 00:38:11', '3.42']\n",
      "['113', '2016-07-19 00:38:15', '19.76']\n"
     ]
    }
   ],
   "source": [
    "# for every item in travel_seq, use a dict to represent\n",
    "# \n",
    "for i in xrange(len(travel_seq)):\n",
    "    a = travel_seq[i].split(';')\n",
    "    for item in a:\n",
    "        item = item.split('#')\n",
    "        print item\n",
    "        path = item[0]\n",
    "        trace_start_time = item[1]\n",
    "        travel_time = float(item[2])\n",
    "        trace_start_time = datetime.strptime(trace_start_time, \"%Y-%m-%d %H:%M:%S\")\n",
    "        # time_window_minute must be integer, origin has a bug\n",
    "        time_window_minute = int(math.floor(trace_start_time.minute / 20) * 20)\n",
    "        time_window_start = datetime(trace_start_time.year, trace_start_time.month, trace_start_time.day,\n",
    "                                     trace_start_time.hour, time_window_minute, 0)\n",
    "        time_window_end = time_window_start + timedelta(minutes=20)\n",
    "        time_window_index = str(time_window_start) +' '+ str(time_window_end)\n",
    "        if not all.has_key(path):\n",
    "            time_window = {}\n",
    "            time_window[time_window_index] = [travel_time]\n",
    "            all[path] = time_window\n",
    "        else:\n",
    "            if not all[path].has_key(time_window_index):\n",
    "                all[path][time_window_index] = [travel_time]\n",
    "            else:\n",
    "                all[path][time_window_index].append(travel_time)"
   ]
  },
  {
   "cell_type": "code",
   "execution_count": 101,
   "metadata": {
    "collapsed": false
   },
   "outputs": [
    {
     "name": "stdout",
     "output_type": "stream",
     "text": [
      "{'121': {'2016-07-19 00:20:00 2016-07-19 00:40:00': [25.51]}, '122': {'2016-07-19 00:20:00 2016-07-19 00:40:00': [104.79], '2016-07-19 00:00:00 2016-07-19 00:20:00': [32.85]}, '116': {'2016-07-19 00:20:00 2016-07-19 00:40:00': [10.07]}, '111': {'2016-07-19 00:20:00 2016-07-19 00:40:00': [16.23, 5.94], '2016-07-19 00:00:00 2016-07-19 00:20:00': [13.0]}, '113': {'2016-07-19 00:20:00 2016-07-19 00:40:00': [19.76]}, '103': {'2016-07-19 00:20:00 2016-07-19 00:40:00': [5.95, 1.13], '2016-07-19 00:00:00 2016-07-19 00:20:00': [7.47]}, '100': {'2016-07-19 00:20:00 2016-07-19 00:40:00': [7.44, 2.85], '2016-07-19 00:00:00 2016-07-19 00:20:00': [6.75]}, '101': {'2016-07-19 00:20:00 2016-07-19 00:40:00': [5.27]}, '106': {'2016-07-19 00:20:00 2016-07-19 00:40:00': [3.42]}, '105': {'2016-07-19 00:20:00 2016-07-19 00:40:00': [11.58, 5.26], '2016-07-19 00:00:00 2016-07-19 00:20:00': [9.56]}}\n"
     ]
    }
   ],
   "source": [
    "print all"
   ]
  },
  {
   "cell_type": "code",
   "execution_count": 102,
   "metadata": {
    "collapsed": false
   },
   "outputs": [
    {
     "name": "stdout",
     "output_type": "stream",
     "text": [
      "{'2016-07-19 00:20:00 2016-07-19 00:40:00': [5.95, 1.13], '2016-07-19 00:00:00 2016-07-19 00:20:00': [7.47]}\n"
     ]
    }
   ],
   "source": []
  },
  {
   "cell_type": "code",
   "execution_count": null,
   "metadata": {
    "collapsed": true
   },
   "outputs": [],
   "source": []
  }
 ],
 "metadata": {
  "anaconda-cloud": {},
  "kernelspec": {
   "display_name": "Python 2",
   "language": "python",
   "name": "python2"
  },
  "language_info": {
   "codemirror_mode": {
    "name": "ipython",
    "version": 2
   },
   "file_extension": ".py",
   "mimetype": "text/x-python",
   "name": "python",
   "nbconvert_exporter": "python",
   "pygments_lexer": "ipython2",
   "version": "2.7.11"
  }
 },
 "nbformat": 4,
 "nbformat_minor": 0
}
