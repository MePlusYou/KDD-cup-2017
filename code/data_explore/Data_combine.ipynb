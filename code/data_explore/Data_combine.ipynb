{
 "cells": [
  {
   "cell_type": "markdown",
   "metadata": {},
   "source": [
    "## 将前两步数据清洗和预处理的数据合并"
   ]
  },
  {
   "cell_type": "markdown",
   "metadata": {},
   "source": [
    "### Step1 导入数据查看哪部分的数据是可以合并"
   ]
  },
  {
   "cell_type": "code",
   "execution_count": 6,
   "metadata": {
    "collapsed": true
   },
   "outputs": [],
   "source": [
    "# coding:utf-8\n",
    "import pandas as pd\n",
    "import numpy as np\n",
    "train = pd.read_csv('..\\..\\\\data_pre\\\\table34567_train_task1.csv')\n",
    "test = pd.read_csv('..\\..\\\\data_pre\\\\table34567_test_task1.csv')"
   ]
  },
  {
   "cell_type": "code",
   "execution_count": 7,
   "metadata": {
    "collapsed": false
   },
   "outputs": [
    {
     "name": "stdout",
     "output_type": "stream",
     "text": [
      "(25648, 58) (504, 64)\n"
     ]
    }
   ],
   "source": [
    "print train.shape, test.shape"
   ]
  },
  {
   "cell_type": "code",
   "execution_count": 8,
   "metadata": {
    "collapsed": false
   },
   "outputs": [
    {
     "name": "stdout",
     "output_type": "stream",
     "text": [
      "['intersection_id' 'tollgate_id' 'time_window' 'avg_travel_time' '0' '0.1'\n",
      " '0.2' '0.3' '1' '2' '3' '4' '5' '6' 'hour__0' 'hour__1' 'hour__2'\n",
      " 'hour__3' 'hour__4' 'hour__5' 'hour__6' 'hour__7' 'hour__8' 'hour__9'\n",
      " 'hour__10' 'hour__11' 'hour__12' 'hour__13' 'hour__14' 'hour__15'\n",
      " 'hour__16' 'hour__17' 'hour__18' 'hour__19' 'hour__20' 'hour__21'\n",
      " 'hour__22' 'hour__23' '0.4' '0.5' '0.6' '0.7' '20' '40' 'holiday'\n",
      " 'pressure' 'sea_pressure' 'wind_direction' 'wind_speed' 'temperature'\n",
      " 'rel_humidity' 'precipitation' 'in_link_cross_count'\n",
      " 'out_link_cross_count' 'length' 'link_count' '1_length' '2_length'\n",
      " '3_length' '4_length' '1_count' '2_count' '3_count' '4_count']\n",
      "\n",
      "['intersection_id' 'tollgate_id' 'time_window' 'avg_travel_time' '0' '1'\n",
      " '2' '3' '4' '5' '6' 'hour__0' 'hour__1' 'hour__2' 'hour__3' 'hour__4'\n",
      " 'hour__5' 'hour__6' 'hour__7' 'hour__8' 'hour__9' 'hour__10' 'hour__11'\n",
      " 'hour__12' 'hour__13' 'hour__14' 'hour__15' 'hour__16' 'hour__17'\n",
      " 'hour__18' 'hour__19' 'hour__20' 'hour__21' 'hour__22' 'hour__23' '0.1'\n",
      " '20' '40' 'holiday' 'pressure' 'sea_pressure' 'wind_direction'\n",
      " 'wind_speed' 'temperature' 'rel_humidity' 'precipitation'\n",
      " 'in_link_cross_count' 'out_link_cross_count' 'length' 'link_count'\n",
      " '1_length' '2_length' '3_length' '4_length' '1_count' '2_count' '3_count'\n",
      " '4_count']\n"
     ]
    }
   ],
   "source": [
    "print test.columns.values\n",
    "print \n",
    "print train.columns.values"
   ]
  },
  {
   "cell_type": "code",
   "execution_count": null,
   "metadata": {
    "collapsed": true
   },
   "outputs": [],
   "source": []
  }
 ],
 "metadata": {
  "kernelspec": {
   "display_name": "Python 2",
   "language": "python",
   "name": "python2"
  },
  "language_info": {
   "codemirror_mode": {
    "name": "ipython",
    "version": 2
   },
   "file_extension": ".py",
   "mimetype": "text/x-python",
   "name": "python",
   "nbconvert_exporter": "python",
   "pygments_lexer": "ipython2",
   "version": "2.7.11"
  }
 },
 "nbformat": 4,
 "nbformat_minor": 2
}
