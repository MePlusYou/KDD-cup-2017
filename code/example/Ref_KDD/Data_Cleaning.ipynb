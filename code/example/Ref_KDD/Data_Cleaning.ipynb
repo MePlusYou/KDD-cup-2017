{
 "cells": [
  {
   "cell_type": "markdown",
   "metadata": {},
   "source": [
    "#### 步骤:\n",
    "1. 读取测试训练的t3,t4,t5,t6.(如需要天气数据则包括t7)\n",
    "2. 按照20分钟时间窗口得到 t5_train,t6_train,t5_test_2h_ago,t6_testt_2h_ago\n",
    "3. t5_test_2h_ago,t6_testt_2h_ago,时间窗口加2小时去掉标签,得到t5_test,t6_test\n",
    "4. 按照时间日期给t5_train,t6_train,t5_test,t6_test,加特征是否假期,星期几,一天中第几个时间窗口\n",
    "5. 清洗t4,t5得每条路线的,宽度长度岔路数,t5_train,t5_test按照Intersection 和 Tollgates 添加路途宽度长度岔路数特征\n",
    "6. t5_train,t6_train,t5_test,t6_test数据格式修改到要求的格式,保存到csv文件中\n",
    "7. 查看文件发现并修改一些问题"
   ]
  },
  {
   "cell_type": "markdown",
   "metadata": {},
   "source": [
    "## step1 读取数据"
   ]
  },
  {
   "cell_type": "code",
   "execution_count": 1,
   "metadata": {
    "collapsed": false
   },
   "outputs": [],
   "source": [
    "import pandas as pd \n",
    "t3 = pd.read_csv('E:\\Competetion\\KDD-cup-2017\\KDD_OFFICIAL_DATA\\dataSets\\\\training\\links (table 3).csv')\n",
    "t4 = pd.read_csv('E:\\Competetion\\KDD-cup-2017\\KDD_OFFICIAL_DATA\\dataSets\\\\training\\\\routes (table 4).csv')\n",
    "t5_train = pd.read_csv('E:\\Competetion\\KDD-cup-2017\\KDD_OFFICIAL_DATA\\dataSets\\\\training\\\\trajectories(table 5)_training.csv')\n",
    "t6_train = pd.read_csv(\"E:\\Competetion\\KDD-cup-2017\\KDD_OFFICIAL_DATA\\dataSets\\\\training\\\\volume(table 6)_training.csv\")"
   ]
  },
  {
   "cell_type": "code",
   "execution_count": 2,
   "metadata": {
    "collapsed": false
   },
   "outputs": [],
   "source": [
    "t6_test_2h_ago = pd.read_csv(\"E:\\Competetion\\KDD-cup-2017\\KDD_OFFICIAL_DATA\\dataSets\\\\testing_phase1\\\\volume(table 6)_test1.csv\")\n",
    "t5_test_2h_ago = pd.read_csv(\"E:\\Competetion\\KDD-cup-2017\\KDD_OFFICIAL_DATA\\dataSets\\\\testing_phase1\\\\trajectories(table 5)_test1.csv\")"
   ]
  },
  {
   "cell_type": "code",
   "execution_count": 3,
   "metadata": {
    "collapsed": false
   },
   "outputs": [
    {
     "data": {
      "text/html": [
       "<div>\n",
       "<table border=\"1\" class=\"dataframe\">\n",
       "  <thead>\n",
       "    <tr style=\"text-align: right;\">\n",
       "      <th></th>\n",
       "      <th>intersection_id</th>\n",
       "      <th>tollgate_id</th>\n",
       "      <th>vehicle_id</th>\n",
       "      <th>starting_time</th>\n",
       "      <th>travel_seq</th>\n",
       "      <th>travel_time</th>\n",
       "    </tr>\n",
       "  </thead>\n",
       "  <tbody>\n",
       "    <tr>\n",
       "      <th>0</th>\n",
       "      <td>A</td>\n",
       "      <td>2</td>\n",
       "      <td>1026631</td>\n",
       "      <td>2016-10-18 06:00:14</td>\n",
       "      <td>110#2016-10-18 06:00:14#7.65;123#2016-10-18 06...</td>\n",
       "      <td>27.54</td>\n",
       "    </tr>\n",
       "    <tr>\n",
       "      <th>1</th>\n",
       "      <td>C</td>\n",
       "      <td>3</td>\n",
       "      <td>1017312</td>\n",
       "      <td>2016-10-18 06:00:28</td>\n",
       "      <td>115#2016-10-18 06:00:28#9.35;102#2016-10-18 06...</td>\n",
       "      <td>139.53</td>\n",
       "    </tr>\n",
       "    <tr>\n",
       "      <th>2</th>\n",
       "      <td>A</td>\n",
       "      <td>2</td>\n",
       "      <td>1044671</td>\n",
       "      <td>2016-10-18 06:03:07</td>\n",
       "      <td>110#2016-10-18 06:03:07#7.22;123#2016-10-18 06...</td>\n",
       "      <td>26.01</td>\n",
       "    </tr>\n",
       "    <tr>\n",
       "      <th>3</th>\n",
       "      <td>A</td>\n",
       "      <td>3</td>\n",
       "      <td>1000017</td>\n",
       "      <td>2016-10-18 06:04:37</td>\n",
       "      <td>110#2016-10-18 06:04:37#7.39;123#2016-10-18 06...</td>\n",
       "      <td>78.40</td>\n",
       "    </tr>\n",
       "    <tr>\n",
       "      <th>4</th>\n",
       "      <td>A</td>\n",
       "      <td>2</td>\n",
       "      <td>1002850</td>\n",
       "      <td>2016-10-18 06:10:17</td>\n",
       "      <td>110#2016-10-18 06:10:17#14.33;123#2016-10-18 0...</td>\n",
       "      <td>71.00</td>\n",
       "    </tr>\n",
       "  </tbody>\n",
       "</table>\n",
       "</div>"
      ],
      "text/plain": [
       "  intersection_id  tollgate_id  vehicle_id        starting_time  \\\n",
       "0               A            2     1026631  2016-10-18 06:00:14   \n",
       "1               C            3     1017312  2016-10-18 06:00:28   \n",
       "2               A            2     1044671  2016-10-18 06:03:07   \n",
       "3               A            3     1000017  2016-10-18 06:04:37   \n",
       "4               A            2     1002850  2016-10-18 06:10:17   \n",
       "\n",
       "                                          travel_seq  travel_time  \n",
       "0  110#2016-10-18 06:00:14#7.65;123#2016-10-18 06...        27.54  \n",
       "1  115#2016-10-18 06:00:28#9.35;102#2016-10-18 06...       139.53  \n",
       "2  110#2016-10-18 06:03:07#7.22;123#2016-10-18 06...        26.01  \n",
       "3  110#2016-10-18 06:04:37#7.39;123#2016-10-18 06...        78.40  \n",
       "4  110#2016-10-18 06:10:17#14.33;123#2016-10-18 0...        71.00  "
      ]
     },
     "execution_count": 3,
     "metadata": {},
     "output_type": "execute_result"
    }
   ],
   "source": [
    "t5_test_2h_ago.head()"
   ]
  },
  {
   "cell_type": "markdown",
   "metadata": {},
   "source": [
    "## step2 按照20分钟窗口重组数据"
   ]
  },
  {
   "cell_type": "code",
   "execution_count": 4,
   "metadata": {
    "collapsed": false
   },
   "outputs": [
    {
     "data": {
      "text/html": [
       "<div>\n",
       "<table border=\"1\" class=\"dataframe\">\n",
       "  <thead>\n",
       "    <tr style=\"text-align: right;\">\n",
       "      <th></th>\n",
       "      <th>intersection_id</th>\n",
       "      <th>tollgate_id</th>\n",
       "      <th>vehicle_id</th>\n",
       "      <th>starting_time</th>\n",
       "      <th>travel_seq</th>\n",
       "      <th>travel_time</th>\n",
       "    </tr>\n",
       "  </thead>\n",
       "  <tbody>\n",
       "    <tr>\n",
       "      <th>0</th>\n",
       "      <td>B</td>\n",
       "      <td>3</td>\n",
       "      <td>1065642</td>\n",
       "      <td>2016-07-19 00:14:24</td>\n",
       "      <td>105#2016-07-19 00:14:24#9.56;100#2016-07-19 00...</td>\n",
       "      <td>70.85</td>\n",
       "    </tr>\n",
       "    <tr>\n",
       "      <th>1</th>\n",
       "      <td>B</td>\n",
       "      <td>3</td>\n",
       "      <td>1047198</td>\n",
       "      <td>2016-07-19 00:35:56</td>\n",
       "      <td>105#2016-07-19 00:35:56#11.58;100#2016-07-19 0...</td>\n",
       "      <td>148.79</td>\n",
       "    </tr>\n",
       "    <tr>\n",
       "      <th>2</th>\n",
       "      <td>B</td>\n",
       "      <td>1</td>\n",
       "      <td>1086390</td>\n",
       "      <td>2016-07-19 00:37:15</td>\n",
       "      <td>105#2016-07-19 00:37:15#5.26;100#2016-07-19 00...</td>\n",
       "      <td>79.76</td>\n",
       "    </tr>\n",
       "    <tr>\n",
       "      <th>3</th>\n",
       "      <td>A</td>\n",
       "      <td>2</td>\n",
       "      <td>1071181</td>\n",
       "      <td>2016-07-19 00:37:59</td>\n",
       "      <td>110#2016-07-19 00:37:59#13.74;123#2016-07-19 0...</td>\n",
       "      <td>58.05</td>\n",
       "    </tr>\n",
       "    <tr>\n",
       "      <th>4</th>\n",
       "      <td>B</td>\n",
       "      <td>1</td>\n",
       "      <td>1065807</td>\n",
       "      <td>2016-07-19 00:56:21</td>\n",
       "      <td>105#2016-07-19 00:56:21#16.08;100#2016-07-19 0...</td>\n",
       "      <td>137.98</td>\n",
       "    </tr>\n",
       "  </tbody>\n",
       "</table>\n",
       "</div>"
      ],
      "text/plain": [
       "  intersection_id  tollgate_id  vehicle_id       starting_time  \\\n",
       "0               B            3     1065642 2016-07-19 00:14:24   \n",
       "1               B            3     1047198 2016-07-19 00:35:56   \n",
       "2               B            1     1086390 2016-07-19 00:37:15   \n",
       "3               A            2     1071181 2016-07-19 00:37:59   \n",
       "4               B            1     1065807 2016-07-19 00:56:21   \n",
       "\n",
       "                                          travel_seq  travel_time  \n",
       "0  105#2016-07-19 00:14:24#9.56;100#2016-07-19 00...        70.85  \n",
       "1  105#2016-07-19 00:35:56#11.58;100#2016-07-19 0...       148.79  \n",
       "2  105#2016-07-19 00:37:15#5.26;100#2016-07-19 00...        79.76  \n",
       "3  110#2016-07-19 00:37:59#13.74;123#2016-07-19 0...        58.05  \n",
       "4  105#2016-07-19 00:56:21#16.08;100#2016-07-19 0...       137.98  "
      ]
     },
     "execution_count": 4,
     "metadata": {},
     "output_type": "execute_result"
    }
   ],
   "source": [
    "# 按照时间窗口重组数据: http://stackoverflow.com/questions/36914892/python-how-to-group-pandas-data-frame-in-a-certain-time-window\n",
    "t5_train['starting_time'] =  pd.to_datetime(t5_train['starting_time'] , format='%Y-%m-%d %H:%M:%S')\n",
    "t5_train.head()"
   ]
  },
  {
   "cell_type": "code",
   "execution_count": 5,
   "metadata": {
    "collapsed": false
   },
   "outputs": [
    {
     "data": {
      "text/html": [
       "<div>\n",
       "<table border=\"1\" class=\"dataframe\">\n",
       "  <thead>\n",
       "    <tr style=\"text-align: right;\">\n",
       "      <th></th>\n",
       "      <th>intersection_id</th>\n",
       "      <th>tollgate_id</th>\n",
       "      <th>vehicle_id</th>\n",
       "      <th>travel_seq</th>\n",
       "      <th>travel_time</th>\n",
       "    </tr>\n",
       "    <tr>\n",
       "      <th>starting_time</th>\n",
       "      <th></th>\n",
       "      <th></th>\n",
       "      <th></th>\n",
       "      <th></th>\n",
       "      <th></th>\n",
       "    </tr>\n",
       "  </thead>\n",
       "  <tbody>\n",
       "    <tr>\n",
       "      <th>2016-07-19 00:14:24</th>\n",
       "      <td>B</td>\n",
       "      <td>3</td>\n",
       "      <td>1065642</td>\n",
       "      <td>105#2016-07-19 00:14:24#9.56;100#2016-07-19 00...</td>\n",
       "      <td>70.85</td>\n",
       "    </tr>\n",
       "    <tr>\n",
       "      <th>2016-07-19 00:35:56</th>\n",
       "      <td>B</td>\n",
       "      <td>3</td>\n",
       "      <td>1047198</td>\n",
       "      <td>105#2016-07-19 00:35:56#11.58;100#2016-07-19 0...</td>\n",
       "      <td>148.79</td>\n",
       "    </tr>\n",
       "    <tr>\n",
       "      <th>2016-07-19 00:37:15</th>\n",
       "      <td>B</td>\n",
       "      <td>1</td>\n",
       "      <td>1086390</td>\n",
       "      <td>105#2016-07-19 00:37:15#5.26;100#2016-07-19 00...</td>\n",
       "      <td>79.76</td>\n",
       "    </tr>\n",
       "    <tr>\n",
       "      <th>2016-07-19 00:37:59</th>\n",
       "      <td>A</td>\n",
       "      <td>2</td>\n",
       "      <td>1071181</td>\n",
       "      <td>110#2016-07-19 00:37:59#13.74;123#2016-07-19 0...</td>\n",
       "      <td>58.05</td>\n",
       "    </tr>\n",
       "    <tr>\n",
       "      <th>2016-07-19 00:56:21</th>\n",
       "      <td>B</td>\n",
       "      <td>1</td>\n",
       "      <td>1065807</td>\n",
       "      <td>105#2016-07-19 00:56:21#16.08;100#2016-07-19 0...</td>\n",
       "      <td>137.98</td>\n",
       "    </tr>\n",
       "  </tbody>\n",
       "</table>\n",
       "</div>"
      ],
      "text/plain": [
       "                    intersection_id  tollgate_id  vehicle_id  \\\n",
       "starting_time                                                  \n",
       "2016-07-19 00:14:24               B            3     1065642   \n",
       "2016-07-19 00:35:56               B            3     1047198   \n",
       "2016-07-19 00:37:15               B            1     1086390   \n",
       "2016-07-19 00:37:59               A            2     1071181   \n",
       "2016-07-19 00:56:21               B            1     1065807   \n",
       "\n",
       "                                                            travel_seq  \\\n",
       "starting_time                                                            \n",
       "2016-07-19 00:14:24  105#2016-07-19 00:14:24#9.56;100#2016-07-19 00...   \n",
       "2016-07-19 00:35:56  105#2016-07-19 00:35:56#11.58;100#2016-07-19 0...   \n",
       "2016-07-19 00:37:15  105#2016-07-19 00:37:15#5.26;100#2016-07-19 00...   \n",
       "2016-07-19 00:37:59  110#2016-07-19 00:37:59#13.74;123#2016-07-19 0...   \n",
       "2016-07-19 00:56:21  105#2016-07-19 00:56:21#16.08;100#2016-07-19 0...   \n",
       "\n",
       "                     travel_time  \n",
       "starting_time                     \n",
       "2016-07-19 00:14:24        70.85  \n",
       "2016-07-19 00:35:56       148.79  \n",
       "2016-07-19 00:37:15        79.76  \n",
       "2016-07-19 00:37:59        58.05  \n",
       "2016-07-19 00:56:21       137.98  "
      ]
     },
     "execution_count": 5,
     "metadata": {},
     "output_type": "execute_result"
    }
   ],
   "source": [
    "t5_train = t5_train.set_index(['starting_time'])\n",
    "t5_train.head()"
   ]
  },
  {
   "cell_type": "code",
   "execution_count": 6,
   "metadata": {
    "collapsed": false
   },
   "outputs": [
    {
     "data": {
      "text/html": [
       "<div>\n",
       "<table border=\"1\" class=\"dataframe\">\n",
       "  <thead>\n",
       "    <tr style=\"text-align: right;\">\n",
       "      <th></th>\n",
       "      <th>starting_time</th>\n",
       "      <th>intersection_id</th>\n",
       "      <th>tollgate_id</th>\n",
       "      <th>avg_travel_time</th>\n",
       "    </tr>\n",
       "  </thead>\n",
       "  <tbody>\n",
       "    <tr>\n",
       "      <th>0</th>\n",
       "      <td>2016-07-19 00:00:00</td>\n",
       "      <td>B</td>\n",
       "      <td>3</td>\n",
       "      <td>70.85</td>\n",
       "    </tr>\n",
       "    <tr>\n",
       "      <th>1</th>\n",
       "      <td>2016-07-19 00:20:00</td>\n",
       "      <td>A</td>\n",
       "      <td>2</td>\n",
       "      <td>58.05</td>\n",
       "    </tr>\n",
       "    <tr>\n",
       "      <th>2</th>\n",
       "      <td>2016-07-19 00:20:00</td>\n",
       "      <td>B</td>\n",
       "      <td>1</td>\n",
       "      <td>79.76</td>\n",
       "    </tr>\n",
       "    <tr>\n",
       "      <th>3</th>\n",
       "      <td>2016-07-19 00:20:00</td>\n",
       "      <td>B</td>\n",
       "      <td>3</td>\n",
       "      <td>148.79</td>\n",
       "    </tr>\n",
       "    <tr>\n",
       "      <th>4</th>\n",
       "      <td>2016-07-19 00:40:00</td>\n",
       "      <td>B</td>\n",
       "      <td>1</td>\n",
       "      <td>137.98</td>\n",
       "    </tr>\n",
       "  </tbody>\n",
       "</table>\n",
       "</div>"
      ],
      "text/plain": [
       "        starting_time intersection_id  tollgate_id  avg_travel_time\n",
       "0 2016-07-19 00:00:00               B            3            70.85\n",
       "1 2016-07-19 00:20:00               A            2            58.05\n",
       "2 2016-07-19 00:20:00               B            1            79.76\n",
       "3 2016-07-19 00:20:00               B            3           148.79\n",
       "4 2016-07-19 00:40:00               B            1           137.98"
      ]
     },
     "execution_count": 6,
     "metadata": {},
     "output_type": "execute_result"
    }
   ],
   "source": [
    "t5_train = t5_train.groupby([pd.TimeGrouper('20Min'), 'intersection_id', 'tollgate_id']).travel_time.mean()\\\n",
    "       .reset_index().rename(columns = {'travel_time':'avg_travel_time'})\n",
    "t5_train.head()"
   ]
  },
  {
   "cell_type": "code",
   "execution_count": 7,
   "metadata": {
    "collapsed": true
   },
   "outputs": [],
   "source": [
    "t5_test_2h_ago['starting_time'] =  pd.to_datetime(t5_test_2h_ago['starting_time'] , format='%Y-%m-%d %H:%M:%S')\n",
    "t5_test_2h_ago = t5_test_2h_ago.set_index(['starting_time'])\n",
    "\n",
    "t5_test_2h_ago = t5_test_2h_ago.groupby([pd.TimeGrouper('20Min'), 'intersection_id', 'tollgate_id']).travel_time.mean()\\\n",
    "       .reset_index().rename(columns = {'travel_time':'avg_travel_time'})"
   ]
  },
  {
   "cell_type": "code",
   "execution_count": 8,
   "metadata": {
    "collapsed": false
   },
   "outputs": [
    {
     "data": {
      "text/html": [
       "<div>\n",
       "<table border=\"1\" class=\"dataframe\">\n",
       "  <thead>\n",
       "    <tr style=\"text-align: right;\">\n",
       "      <th></th>\n",
       "      <th>time</th>\n",
       "      <th>tollgate_id</th>\n",
       "      <th>direction</th>\n",
       "      <th>vehicle_model</th>\n",
       "      <th>has_etc</th>\n",
       "      <th>vehicle_type</th>\n",
       "    </tr>\n",
       "  </thead>\n",
       "  <tbody>\n",
       "    <tr>\n",
       "      <th>0</th>\n",
       "      <td>2016-09-19 23:09:25</td>\n",
       "      <td>2</td>\n",
       "      <td>0</td>\n",
       "      <td>1</td>\n",
       "      <td>0</td>\n",
       "      <td>NaN</td>\n",
       "    </tr>\n",
       "    <tr>\n",
       "      <th>1</th>\n",
       "      <td>2016-09-19 23:11:53</td>\n",
       "      <td>2</td>\n",
       "      <td>0</td>\n",
       "      <td>1</td>\n",
       "      <td>0</td>\n",
       "      <td>NaN</td>\n",
       "    </tr>\n",
       "    <tr>\n",
       "      <th>2</th>\n",
       "      <td>2016-09-19 23:13:54</td>\n",
       "      <td>2</td>\n",
       "      <td>0</td>\n",
       "      <td>1</td>\n",
       "      <td>0</td>\n",
       "      <td>NaN</td>\n",
       "    </tr>\n",
       "    <tr>\n",
       "      <th>3</th>\n",
       "      <td>2016-09-19 23:17:48</td>\n",
       "      <td>1</td>\n",
       "      <td>0</td>\n",
       "      <td>1</td>\n",
       "      <td>1</td>\n",
       "      <td>NaN</td>\n",
       "    </tr>\n",
       "    <tr>\n",
       "      <th>4</th>\n",
       "      <td>2016-09-19 23:16:07</td>\n",
       "      <td>2</td>\n",
       "      <td>0</td>\n",
       "      <td>1</td>\n",
       "      <td>0</td>\n",
       "      <td>NaN</td>\n",
       "    </tr>\n",
       "  </tbody>\n",
       "</table>\n",
       "</div>"
      ],
      "text/plain": [
       "                  time  tollgate_id  direction  vehicle_model  has_etc  \\\n",
       "0  2016-09-19 23:09:25            2          0              1        0   \n",
       "1  2016-09-19 23:11:53            2          0              1        0   \n",
       "2  2016-09-19 23:13:54            2          0              1        0   \n",
       "3  2016-09-19 23:17:48            1          0              1        1   \n",
       "4  2016-09-19 23:16:07            2          0              1        0   \n",
       "\n",
       "   vehicle_type  \n",
       "0           NaN  \n",
       "1           NaN  \n",
       "2           NaN  \n",
       "3           NaN  \n",
       "4           NaN  "
      ]
     },
     "execution_count": 8,
     "metadata": {},
     "output_type": "execute_result"
    }
   ],
   "source": [
    "t6_train.head(5)"
   ]
  },
  {
   "cell_type": "code",
   "execution_count": 9,
   "metadata": {
    "collapsed": false
   },
   "outputs": [],
   "source": [
    "t6_train['time'] =  pd.to_datetime(t6_train['time'] , format='%Y-%m-%d %H:%M:%S')\n",
    "t6_train = t6_train.set_index(['time'])\n",
    "\n",
    "# 车流量\n",
    "t6_train = t6_train.groupby([pd.TimeGrouper('20Min'), 'tollgate_id', 'direction']).size()\\\n",
    "       .reset_index().rename(columns = {0:'volume'})"
   ]
  },
  {
   "cell_type": "code",
   "execution_count": 10,
   "metadata": {
    "collapsed": false
   },
   "outputs": [
    {
     "data": {
      "text/html": [
       "<div>\n",
       "<table border=\"1\" class=\"dataframe\">\n",
       "  <thead>\n",
       "    <tr style=\"text-align: right;\">\n",
       "      <th></th>\n",
       "      <th>time</th>\n",
       "      <th>tollgate_id</th>\n",
       "      <th>direction</th>\n",
       "      <th>volume</th>\n",
       "    </tr>\n",
       "  </thead>\n",
       "  <tbody>\n",
       "    <tr>\n",
       "      <th>0</th>\n",
       "      <td>2016-09-19</td>\n",
       "      <td>1</td>\n",
       "      <td>0</td>\n",
       "      <td>13</td>\n",
       "    </tr>\n",
       "    <tr>\n",
       "      <th>1</th>\n",
       "      <td>2016-09-19</td>\n",
       "      <td>1</td>\n",
       "      <td>1</td>\n",
       "      <td>140</td>\n",
       "    </tr>\n",
       "    <tr>\n",
       "      <th>2</th>\n",
       "      <td>2016-09-19</td>\n",
       "      <td>2</td>\n",
       "      <td>0</td>\n",
       "      <td>2</td>\n",
       "    </tr>\n",
       "    <tr>\n",
       "      <th>3</th>\n",
       "      <td>2016-09-19</td>\n",
       "      <td>3</td>\n",
       "      <td>0</td>\n",
       "      <td>17</td>\n",
       "    </tr>\n",
       "    <tr>\n",
       "      <th>4</th>\n",
       "      <td>2016-09-19</td>\n",
       "      <td>3</td>\n",
       "      <td>1</td>\n",
       "      <td>181</td>\n",
       "    </tr>\n",
       "  </tbody>\n",
       "</table>\n",
       "</div>"
      ],
      "text/plain": [
       "        time  tollgate_id  direction  volume\n",
       "0 2016-09-19            1          0      13\n",
       "1 2016-09-19            1          1     140\n",
       "2 2016-09-19            2          0       2\n",
       "3 2016-09-19            3          0      17\n",
       "4 2016-09-19            3          1     181"
      ]
     },
     "execution_count": 10,
     "metadata": {},
     "output_type": "execute_result"
    }
   ],
   "source": [
    "t6_train.head()"
   ]
  },
  {
   "cell_type": "code",
   "execution_count": 11,
   "metadata": {
    "collapsed": false
   },
   "outputs": [],
   "source": [
    "t6_test_2h_ago['time'] =  pd.to_datetime(t6_test_2h_ago['time'] , format='%Y-%m-%d %H:%M:%S')\n",
    "t6_test_2h_ago = t6_test_2h_ago.set_index(['time'])\n",
    "\n",
    "# 车流量\n",
    "t6_test_2h_ago = t6_test_2h_ago.groupby([pd.TimeGrouper('20Min'), 'tollgate_id', 'direction']).size()\\\n",
    "       .reset_index().rename(columns = {0:'volume'})"
   ]
  },
  {
   "cell_type": "markdown",
   "metadata": {},
   "source": [
    "## step3 生成测试数据"
   ]
  },
  {
   "cell_type": "code",
   "execution_count": 12,
   "metadata": {
    "collapsed": false
   },
   "outputs": [
    {
     "name": "stdout",
     "output_type": "stream",
     "text": [
      "(25144, 4)\n",
      "(10063, 4)\n"
     ]
    }
   ],
   "source": [
    "print t5_train.shape\n",
    "print t6_train.shape"
   ]
  },
  {
   "cell_type": "code",
   "execution_count": 13,
   "metadata": {
    "collapsed": true
   },
   "outputs": [],
   "source": [
    "# apped 2h前测试数据\n",
    "t5_train= t5_train.append(t5_test_2h_ago)\n",
    "t6_train= t6_train.append(t6_test_2h_ago)"
   ]
  },
  {
   "cell_type": "code",
   "execution_count": 14,
   "metadata": {
    "collapsed": false
   },
   "outputs": [
    {
     "name": "stdout",
     "output_type": "stream",
     "text": [
      "(25592, 4)\n",
      "(10483, 4)\n"
     ]
    }
   ],
   "source": [
    "print t5_train.shape\n",
    "print t6_train.shape"
   ]
  },
  {
   "cell_type": "code",
   "execution_count": 15,
   "metadata": {
    "collapsed": false
   },
   "outputs": [
    {
     "data": {
      "text/html": [
       "<div>\n",
       "<table border=\"1\" class=\"dataframe\">\n",
       "  <thead>\n",
       "    <tr style=\"text-align: right;\">\n",
       "      <th></th>\n",
       "      <th>starting_time</th>\n",
       "      <th>intersection_id</th>\n",
       "      <th>tollgate_id</th>\n",
       "      <th>avg_travel_time</th>\n",
       "    </tr>\n",
       "  </thead>\n",
       "  <tbody>\n",
       "    <tr>\n",
       "      <th>0</th>\n",
       "      <td>2016-07-19 00:00:00</td>\n",
       "      <td>B</td>\n",
       "      <td>3</td>\n",
       "      <td>70.85</td>\n",
       "    </tr>\n",
       "    <tr>\n",
       "      <th>1</th>\n",
       "      <td>2016-07-19 00:20:00</td>\n",
       "      <td>A</td>\n",
       "      <td>2</td>\n",
       "      <td>58.05</td>\n",
       "    </tr>\n",
       "    <tr>\n",
       "      <th>2</th>\n",
       "      <td>2016-07-19 00:20:00</td>\n",
       "      <td>B</td>\n",
       "      <td>1</td>\n",
       "      <td>79.76</td>\n",
       "    </tr>\n",
       "    <tr>\n",
       "      <th>3</th>\n",
       "      <td>2016-07-19 00:20:00</td>\n",
       "      <td>B</td>\n",
       "      <td>3</td>\n",
       "      <td>148.79</td>\n",
       "    </tr>\n",
       "    <tr>\n",
       "      <th>4</th>\n",
       "      <td>2016-07-19 00:40:00</td>\n",
       "      <td>B</td>\n",
       "      <td>1</td>\n",
       "      <td>137.98</td>\n",
       "    </tr>\n",
       "  </tbody>\n",
       "</table>\n",
       "</div>"
      ],
      "text/plain": [
       "        starting_time intersection_id  tollgate_id  avg_travel_time\n",
       "0 2016-07-19 00:00:00               B            3            70.85\n",
       "1 2016-07-19 00:20:00               A            2            58.05\n",
       "2 2016-07-19 00:20:00               B            1            79.76\n",
       "3 2016-07-19 00:20:00               B            3           148.79\n",
       "4 2016-07-19 00:40:00               B            1           137.98"
      ]
     },
     "execution_count": 15,
     "metadata": {},
     "output_type": "execute_result"
    }
   ],
   "source": [
    "t5_train.head()"
   ]
  },
  {
   "cell_type": "code",
   "execution_count": 16,
   "metadata": {
    "collapsed": false
   },
   "outputs": [
    {
     "data": {
      "text/html": [
       "<div>\n",
       "<table border=\"1\" class=\"dataframe\">\n",
       "  <thead>\n",
       "    <tr style=\"text-align: right;\">\n",
       "      <th></th>\n",
       "      <th>starting_time</th>\n",
       "      <th>intersection_id</th>\n",
       "      <th>tollgate_id</th>\n",
       "      <th>avg_travel_time</th>\n",
       "    </tr>\n",
       "  </thead>\n",
       "  <tbody>\n",
       "    <tr>\n",
       "      <th>0</th>\n",
       "      <td>2016-10-18 06:00:00</td>\n",
       "      <td>A</td>\n",
       "      <td>2</td>\n",
       "      <td>41.097143</td>\n",
       "    </tr>\n",
       "    <tr>\n",
       "      <th>1</th>\n",
       "      <td>2016-10-18 06:00:00</td>\n",
       "      <td>A</td>\n",
       "      <td>3</td>\n",
       "      <td>69.480000</td>\n",
       "    </tr>\n",
       "    <tr>\n",
       "      <th>2</th>\n",
       "      <td>2016-10-18 06:00:00</td>\n",
       "      <td>B</td>\n",
       "      <td>1</td>\n",
       "      <td>57.820000</td>\n",
       "    </tr>\n",
       "    <tr>\n",
       "      <th>3</th>\n",
       "      <td>2016-10-18 06:00:00</td>\n",
       "      <td>B</td>\n",
       "      <td>3</td>\n",
       "      <td>54.750000</td>\n",
       "    </tr>\n",
       "    <tr>\n",
       "      <th>4</th>\n",
       "      <td>2016-10-18 06:00:00</td>\n",
       "      <td>C</td>\n",
       "      <td>1</td>\n",
       "      <td>145.350000</td>\n",
       "    </tr>\n",
       "  </tbody>\n",
       "</table>\n",
       "</div>"
      ],
      "text/plain": [
       "        starting_time intersection_id  tollgate_id  avg_travel_time\n",
       "0 2016-10-18 06:00:00               A            2        41.097143\n",
       "1 2016-10-18 06:00:00               A            3        69.480000\n",
       "2 2016-10-18 06:00:00               B            1        57.820000\n",
       "3 2016-10-18 06:00:00               B            3        54.750000\n",
       "4 2016-10-18 06:00:00               C            1       145.350000"
      ]
     },
     "execution_count": 16,
     "metadata": {},
     "output_type": "execute_result"
    }
   ],
   "source": [
    "t5_test_2h_ago.head()"
   ]
  },
  {
   "cell_type": "code",
   "execution_count": 17,
   "metadata": {
    "collapsed": false
   },
   "outputs": [],
   "source": [
    "# 增加两小时作为测试数据\n",
    "t5_test_2h_ago['starting_time'] = t5_test_2h_ago['starting_time'] + pd.DateOffset(hours=2)\n",
    "t6_test_2h_ago['time'] = t6_test_2h_ago['time'] + pd.DateOffset(hours=2)"
   ]
  },
  {
   "cell_type": "code",
   "execution_count": 18,
   "metadata": {
    "collapsed": false
   },
   "outputs": [
    {
     "data": {
      "text/plain": [
       "(448, 4)"
      ]
     },
     "execution_count": 18,
     "metadata": {},
     "output_type": "execute_result"
    }
   ],
   "source": [
    "t5_test_2h_ago.shape"
   ]
  },
  {
   "cell_type": "code",
   "execution_count": 19,
   "metadata": {
    "collapsed": false
   },
   "outputs": [
    {
     "data": {
      "text/html": [
       "<div>\n",
       "<table border=\"1\" class=\"dataframe\">\n",
       "  <thead>\n",
       "    <tr style=\"text-align: right;\">\n",
       "      <th></th>\n",
       "      <th>starting_time</th>\n",
       "      <th>intersection_id</th>\n",
       "      <th>tollgate_id</th>\n",
       "      <th>avg_travel_time</th>\n",
       "    </tr>\n",
       "  </thead>\n",
       "  <tbody>\n",
       "    <tr>\n",
       "      <th>0</th>\n",
       "      <td>2016-10-18 08:00:00</td>\n",
       "      <td>A</td>\n",
       "      <td>2</td>\n",
       "      <td>41.097143</td>\n",
       "    </tr>\n",
       "    <tr>\n",
       "      <th>1</th>\n",
       "      <td>2016-10-18 08:00:00</td>\n",
       "      <td>A</td>\n",
       "      <td>3</td>\n",
       "      <td>69.480000</td>\n",
       "    </tr>\n",
       "    <tr>\n",
       "      <th>2</th>\n",
       "      <td>2016-10-18 08:00:00</td>\n",
       "      <td>B</td>\n",
       "      <td>1</td>\n",
       "      <td>57.820000</td>\n",
       "    </tr>\n",
       "    <tr>\n",
       "      <th>3</th>\n",
       "      <td>2016-10-18 08:00:00</td>\n",
       "      <td>B</td>\n",
       "      <td>3</td>\n",
       "      <td>54.750000</td>\n",
       "    </tr>\n",
       "    <tr>\n",
       "      <th>4</th>\n",
       "      <td>2016-10-18 08:00:00</td>\n",
       "      <td>C</td>\n",
       "      <td>1</td>\n",
       "      <td>145.350000</td>\n",
       "    </tr>\n",
       "  </tbody>\n",
       "</table>\n",
       "</div>"
      ],
      "text/plain": [
       "        starting_time intersection_id  tollgate_id  avg_travel_time\n",
       "0 2016-10-18 08:00:00               A            2        41.097143\n",
       "1 2016-10-18 08:00:00               A            3        69.480000\n",
       "2 2016-10-18 08:00:00               B            1        57.820000\n",
       "3 2016-10-18 08:00:00               B            3        54.750000\n",
       "4 2016-10-18 08:00:00               C            1       145.350000"
      ]
     },
     "execution_count": 19,
     "metadata": {},
     "output_type": "execute_result"
    }
   ],
   "source": [
    "t5_test_2h_ago.head()"
   ]
  },
  {
   "cell_type": "code",
   "execution_count": 20,
   "metadata": {
    "collapsed": false
   },
   "outputs": [],
   "source": [
    "# 测试数据\n",
    "t5_test,t6_test =t5_test_2h_ago,t6_test_2h_ago\n",
    "del t5_test_2h_ago,t6_test_2h_ago"
   ]
  },
  {
   "cell_type": "code",
   "execution_count": 21,
   "metadata": {
    "collapsed": false
   },
   "outputs": [],
   "source": [
    "# 移除标签\n",
    "t5_test.drop('avg_travel_time',axis=1,inplace=True)\n",
    "t6_test.drop('volume',axis=1,inplace=True)"
   ]
  },
  {
   "cell_type": "code",
   "execution_count": 22,
   "metadata": {
    "collapsed": false
   },
   "outputs": [
    {
     "data": {
      "text/html": [
       "<div>\n",
       "<table border=\"1\" class=\"dataframe\">\n",
       "  <thead>\n",
       "    <tr style=\"text-align: right;\">\n",
       "      <th></th>\n",
       "      <th>starting_time</th>\n",
       "      <th>intersection_id</th>\n",
       "      <th>tollgate_id</th>\n",
       "    </tr>\n",
       "  </thead>\n",
       "  <tbody>\n",
       "    <tr>\n",
       "      <th>0</th>\n",
       "      <td>2016-10-18 08:00:00</td>\n",
       "      <td>A</td>\n",
       "      <td>2</td>\n",
       "    </tr>\n",
       "    <tr>\n",
       "      <th>1</th>\n",
       "      <td>2016-10-18 08:00:00</td>\n",
       "      <td>A</td>\n",
       "      <td>3</td>\n",
       "    </tr>\n",
       "    <tr>\n",
       "      <th>2</th>\n",
       "      <td>2016-10-18 08:00:00</td>\n",
       "      <td>B</td>\n",
       "      <td>1</td>\n",
       "    </tr>\n",
       "    <tr>\n",
       "      <th>3</th>\n",
       "      <td>2016-10-18 08:00:00</td>\n",
       "      <td>B</td>\n",
       "      <td>3</td>\n",
       "    </tr>\n",
       "    <tr>\n",
       "      <th>4</th>\n",
       "      <td>2016-10-18 08:00:00</td>\n",
       "      <td>C</td>\n",
       "      <td>1</td>\n",
       "    </tr>\n",
       "  </tbody>\n",
       "</table>\n",
       "</div>"
      ],
      "text/plain": [
       "        starting_time intersection_id  tollgate_id\n",
       "0 2016-10-18 08:00:00               A            2\n",
       "1 2016-10-18 08:00:00               A            3\n",
       "2 2016-10-18 08:00:00               B            1\n",
       "3 2016-10-18 08:00:00               B            3\n",
       "4 2016-10-18 08:00:00               C            1"
      ]
     },
     "execution_count": 22,
     "metadata": {},
     "output_type": "execute_result"
    }
   ],
   "source": [
    "t5_test.head()"
   ]
  },
  {
   "cell_type": "markdown",
   "metadata": {},
   "source": [
    "## step4 生成日期特征"
   ]
  },
  {
   "cell_type": "code",
   "execution_count": 21,
   "metadata": {
    "collapsed": false
   },
   "outputs": [
    {
     "data": {
      "text/plain": [
       "datetime.date(2016, 10, 18)"
      ]
     },
     "execution_count": 21,
     "metadata": {},
     "output_type": "execute_result"
    }
   ],
   "source": [
    "t5_test['starting_time'].dt.date.loc[0]"
   ]
  },
  {
   "cell_type": "code",
   "execution_count": 25,
   "metadata": {
    "collapsed": false
   },
   "outputs": [],
   "source": [
    "# 中秋国庆假期\n",
    "\n",
    "from datetime import datetime\n",
    "start1 = datetime(2016, 9, 15)\n",
    "end1 = datetime(2016, 9, 17)\n",
    "start2 = datetime(2016, 10, 1)\n",
    "end2 = datetime(2016, 10, 7)\n",
    "rng = pd.date_range(start1, end1).append(pd.date_range(start2, end2))\n",
    "\n",
    "# 是否假期,星期,小时,在那个时间窗口\n",
    "\n",
    "def generateDataTime(X,label):\n",
    "    \n",
    "    # 小时,星期,时间窗口\n",
    "    hour = pd.get_dummies(X[label].dt.hour,prefix='hour_')\n",
    "    weekday = pd.get_dummies(X[label].dt.weekday)\n",
    "    time = pd.get_dummies(X[label].dt.time)\n",
    "    # 添加到X\n",
    "    X = pd.concat([X,weekday,hour,time], axis=1)\n",
    "    # 是否在假期内\n",
    "    date = X[label].dt.date\n",
    "    for i, row in X.iterrows():\n",
    "        X.loc[i, \"holoday\"] = 0\n",
    "        if date.loc[i] in rng: X.loc[i, \"holoday\"] = 1\n",
    "    return X"
   ]
  },
  {
   "cell_type": "code",
   "execution_count": 26,
   "metadata": {
    "collapsed": false
   },
   "outputs": [],
   "source": [
    "# 生成包含日期数据的数据\n",
    "t5_test = generateDataTime(t5_test,'starting_time')\n",
    "t6_test = generateDataTime(t6_test,'time')\n",
    "t5_train = generateDataTime(t5_train,'starting_time')\n",
    "t6_train = generateDataTime(t6_train,'time')"
   ]
  },
  {
   "cell_type": "markdown",
   "metadata": {},
   "source": [
    "## step5 每条路径特征提取"
   ]
  },
  {
   "cell_type": "code",
   "execution_count": 27,
   "metadata": {
    "collapsed": true
   },
   "outputs": [],
   "source": [
    "# 将110,123 变成[110,123] \n",
    "def split(str): return str.split(\",\")\n",
    "t4.link_seq = t4.link_seq.apply(split)\n",
    "\n",
    "# 将数据按link_seq中各link展开\n",
    "rows = []\n",
    "_ = t4.apply(lambda row: [rows.append([row['intersection_id'], row['tollgate_id'], nn]) \n",
    "                         for nn in row.link_seq], axis=1)\n",
    "col = ['intersection_id', 'tollgate_id','link_id']\n",
    "t4_new = pd.DataFrame(rows, columns=col)"
   ]
  },
  {
   "cell_type": "code",
   "execution_count": 28,
   "metadata": {
    "collapsed": false
   },
   "outputs": [
    {
     "data": {
      "text/html": [
       "<div>\n",
       "<table border=\"1\" class=\"dataframe\">\n",
       "  <thead>\n",
       "    <tr style=\"text-align: right;\">\n",
       "      <th></th>\n",
       "      <th>link_id</th>\n",
       "      <th>length</th>\n",
       "      <th>width</th>\n",
       "      <th>lanes</th>\n",
       "      <th>in_top</th>\n",
       "      <th>out_top</th>\n",
       "      <th>lane_width</th>\n",
       "    </tr>\n",
       "  </thead>\n",
       "  <tbody>\n",
       "    <tr>\n",
       "      <th>0</th>\n",
       "      <td>100</td>\n",
       "      <td>58</td>\n",
       "      <td>3</td>\n",
       "      <td>1</td>\n",
       "      <td>105</td>\n",
       "      <td>111</td>\n",
       "      <td>3</td>\n",
       "    </tr>\n",
       "    <tr>\n",
       "      <th>1</th>\n",
       "      <td>101</td>\n",
       "      <td>84</td>\n",
       "      <td>3</td>\n",
       "      <td>1</td>\n",
       "      <td>116</td>\n",
       "      <td>121</td>\n",
       "      <td>3</td>\n",
       "    </tr>\n",
       "    <tr>\n",
       "      <th>2</th>\n",
       "      <td>102</td>\n",
       "      <td>131</td>\n",
       "      <td>9</td>\n",
       "      <td>3</td>\n",
       "      <td>115</td>\n",
       "      <td>109</td>\n",
       "      <td>3</td>\n",
       "    </tr>\n",
       "    <tr>\n",
       "      <th>3</th>\n",
       "      <td>103</td>\n",
       "      <td>23</td>\n",
       "      <td>12</td>\n",
       "      <td>4</td>\n",
       "      <td>111</td>\n",
       "      <td>122,116</td>\n",
       "      <td>3</td>\n",
       "    </tr>\n",
       "    <tr>\n",
       "      <th>4</th>\n",
       "      <td>104</td>\n",
       "      <td>293</td>\n",
       "      <td>9</td>\n",
       "      <td>3</td>\n",
       "      <td>109</td>\n",
       "      <td>112</td>\n",
       "      <td>3</td>\n",
       "    </tr>\n",
       "  </tbody>\n",
       "</table>\n",
       "</div>"
      ],
      "text/plain": [
       "   link_id  length  width  lanes in_top  out_top  lane_width\n",
       "0      100      58      3      1    105      111           3\n",
       "1      101      84      3      1    116      121           3\n",
       "2      102     131      9      3    115      109           3\n",
       "3      103      23     12      4    111  122,116           3\n",
       "4      104     293      9      3    109      112           3"
      ]
     },
     "execution_count": 28,
     "metadata": {},
     "output_type": "execute_result"
    }
   ],
   "source": [
    "t3.head()"
   ]
  },
  {
   "cell_type": "code",
   "execution_count": 29,
   "metadata": {
    "collapsed": true
   },
   "outputs": [],
   "source": [
    "# pd.merge(t4_new,t3,on = 'link_id',how='left')\n",
    "# 提取每条link的是否有in,out交叉路口\n",
    "t3['cross_in'] = 0\n",
    "t3['cross_out'] = 0\n",
    "\n",
    "for i, row in t3.iterrows():\n",
    "    if ',' in str(row['in_top']):\n",
    "        t3.loc[i, \"cross_in\"] = 1\n",
    "    if ',' in str(row['out_top']):\n",
    "        t3.loc[i, \"cross_out\"] = 1"
   ]
  },
  {
   "cell_type": "code",
   "execution_count": 30,
   "metadata": {
    "collapsed": true
   },
   "outputs": [],
   "source": [
    "t3['link_id'] = t3['link_id'].astype(str)\n",
    "t4_new['link_id'] = t4_new['link_id'].astype(str)\n",
    "t4_new = pd.merge(t4_new,t3,on = 'link_id',how='left')\n",
    "t4_new.drop(['in_top','out_top'],axis =1,inplace= True)"
   ]
  },
  {
   "cell_type": "code",
   "execution_count": 31,
   "metadata": {
    "collapsed": false
   },
   "outputs": [],
   "source": [
    "# 聚合t4_new\n",
    "# in out 岔路口数\n",
    "b1 = t4_new[['intersection_id', 'tollgate_id','cross_in']]\\\n",
    "           .groupby(['intersection_id', 'tollgate_id'])\\\n",
    "            .cross_in.sum().reset_index().rename(columns = {'cross_in':'in_link_cross_count'})\n",
    "b2 = t4_new[['intersection_id', 'tollgate_id','cross_out']]\\\n",
    "        .groupby(['intersection_id', 'tollgate_id'])\\\n",
    "        .cross_out.sum().reset_index().rename(columns = {'cross_out':'out_link_cross_count'})\n",
    "road = pd.merge(b1,b2,on =['intersection_id', 'tollgate_id'] ,how='left')\n",
    "\n",
    "# 路程\n",
    "b1 = t4_new[['intersection_id', 'tollgate_id','length']].groupby(['intersection_id', 'tollgate_id']).length.sum().reset_index()\n",
    "road = pd.merge(road,b1,on =['intersection_id', 'tollgate_id'] ,how='left')\n",
    "## 车道数1车道2车道3车道4车道的link数，后期考虑：占总路程的比率\n",
    "# 各个路径的link总数\n",
    "b1 = t4_new[['intersection_id', 'tollgate_id']]\\\n",
    "       .groupby(['intersection_id', 'tollgate_id']).size()\\\n",
    "    .reset_index().rename(columns = {0:'link_count'})\n",
    "road = pd.merge(road,b1,on =['intersection_id', 'tollgate_id'] ,how='left')"
   ]
  },
  {
   "cell_type": "code",
   "execution_count": 32,
   "metadata": {
    "collapsed": false
   },
   "outputs": [],
   "source": [
    "# 1,2,3,4车道道路长度\n",
    "b1 = t4_new[t4_new.lanes== 1][['intersection_id', 'tollgate_id','length']]\\\n",
    "       .groupby(['intersection_id', 'tollgate_id']).length.sum()\\\n",
    "    .reset_index().rename(columns = {'length':'1_length'})\n",
    "road = pd.merge(road,b1,on =['intersection_id', 'tollgate_id'] ,how='left')\n",
    "# 2车道路长度\n",
    "b1 = t4_new[t4_new.lanes== 2][['intersection_id', 'tollgate_id','length']]\\\n",
    "       .groupby(['intersection_id', 'tollgate_id']).length.sum()\\\n",
    "    .reset_index().rename(columns = {'length':'2_length'})\n",
    "road = pd.merge(road,b1,on =['intersection_id', 'tollgate_id'] ,how='left')\n",
    "# 3车道路长度\n",
    "b1 = t4_new[t4_new.lanes== 3][['intersection_id', 'tollgate_id','length']]\\\n",
    "       .groupby(['intersection_id', 'tollgate_id']).length.sum()\\\n",
    "    .reset_index().rename(columns = {'length':'3_length'})\n",
    "road = pd.merge(road,b1,on =['intersection_id', 'tollgate_id'] ,how='left')\n",
    "# 4车道路长度\n",
    "b1 = t4_new[t4_new.lanes== 4][['intersection_id', 'tollgate_id','length']]\\\n",
    "       .groupby(['intersection_id', 'tollgate_id']).length.sum()\\\n",
    "    .reset_index().rename(columns = {'length':'4_length'})\n",
    "road = pd.merge(road,b1,on =['intersection_id', 'tollgate_id'] ,how='left')\n"
   ]
  },
  {
   "cell_type": "code",
   "execution_count": 33,
   "metadata": {
    "collapsed": true
   },
   "outputs": [],
   "source": [
    "## 1,2,3,4车道link数\n",
    "b1 = t4_new[t4_new.lanes== 1][['intersection_id', 'tollgate_id']]\\\n",
    "       .groupby(['intersection_id', 'tollgate_id']).size()\\\n",
    "    .reset_index().rename(columns = {0:'1_count'})\n",
    "road = pd.merge(road,b1,on =['intersection_id', 'tollgate_id'] ,how='left')\n",
    "# 2车道link数\n",
    "b1 = t4_new[t4_new.lanes== 2][['intersection_id', 'tollgate_id']]\\\n",
    "       .groupby(['intersection_id', 'tollgate_id']).size()\\\n",
    "    .reset_index().rename(columns = {0:'2_count'})\n",
    "road = pd.merge(road,b1,on =['intersection_id', 'tollgate_id'] ,how='left')\n",
    "# 3车道link数\n",
    "b1 = t4_new[t4_new.lanes== 3][['intersection_id', 'tollgate_id']]\\\n",
    "       .groupby(['intersection_id', 'tollgate_id']).size()\\\n",
    "    .reset_index().rename(columns = {0:'3_count'})\n",
    "road = pd.merge(road,b1,on =['intersection_id', 'tollgate_id'] ,how='left')\n",
    "# 4车道link数\n",
    "b1 = t4_new[t4_new.lanes== 4][['intersection_id', 'tollgate_id']]\\\n",
    "       .groupby(['intersection_id', 'tollgate_id']).size()\\\n",
    "    .reset_index().rename(columns = {0:'4_count'})\n",
    "road = pd.merge(road,b1,on =['intersection_id', 'tollgate_id'] ,how='left')\n",
    "\n",
    "road.fillna(0,inplace=True)\n"
   ]
  },
  {
   "cell_type": "code",
   "execution_count": 34,
   "metadata": {
    "collapsed": false
   },
   "outputs": [],
   "source": [
    "t5_test = pd.merge(t5_test,road,on =['intersection_id', 'tollgate_id'] ,how='left')\n",
    "t5_train = pd.merge(t5_train,road,on =['intersection_id', 'tollgate_id'] ,how='left')"
   ]
  },
  {
   "cell_type": "markdown",
   "metadata": {},
   "source": [
    "## step 6 数据格式修改到要求的格式,保存到csv"
   ]
  },
  {
   "cell_type": "code",
   "execution_count": 35,
   "metadata": {
    "collapsed": false,
    "scrolled": true
   },
   "outputs": [],
   "source": [
    "t5_test['end'] = t5_test['starting_time'] + pd.DateOffset(minutes=20)\n",
    "t5_train['end'] = t5_train['starting_time'] + pd.DateOffset(minutes=20)\n",
    "t6_test['end'] = t6_test['time'] + pd.DateOffset(minutes=20)\n",
    "t6_train['end'] = t6_train['time'] + pd.DateOffset(minutes=20)"
   ]
  },
  {
   "cell_type": "code",
   "execution_count": 36,
   "metadata": {
    "collapsed": false
   },
   "outputs": [],
   "source": [
    "# http://stackoverflow.com/questions/30132282/datetime-to-string-with-series-in-python-pandas\n",
    "def timewindows(X,start,end):\n",
    "    s= X[start].apply(lambda x: x.strftime('%Y-%m-%d %H:%M:%S'))\n",
    "    e = X[end].apply(lambda x: x.strftime('%Y-%m-%d %H:%M:%S'))\n",
    "    X['time_window'] = '['+ s +','+ e +')'\n",
    "    return X.drop([start,end],axis =1)"
   ]
  },
  {
   "cell_type": "code",
   "execution_count": 37,
   "metadata": {
    "collapsed": false
   },
   "outputs": [],
   "source": [
    "t5_test = timewindows(t5_test,'starting_time','end')\n",
    "t5_train = timewindows(t5_train,'starting_time','end')\n",
    "t6_test = timewindows(t6_test,'time','end')\n",
    "t6_train = timewindows(t6_train,'time','end')"
   ]
  },
  {
   "cell_type": "code",
   "execution_count": 38,
   "metadata": {
    "collapsed": false
   },
   "outputs": [
    {
     "data": {
      "text/plain": [
       "array(['tollgate_id', 'direction', 0L, 1L, 2L, 3L, 4L, 5L, 6L, 'hour__8',\n",
       "       'hour__9', 'hour__17', 'hour__18', datetime.time(8, 0),\n",
       "       datetime.time(8, 20), datetime.time(8, 40), datetime.time(9, 0),\n",
       "       datetime.time(9, 20), datetime.time(9, 40), datetime.time(17, 0),\n",
       "       datetime.time(17, 20), datetime.time(17, 40), datetime.time(18, 0),\n",
       "       datetime.time(18, 20), datetime.time(18, 40), 'holoday',\n",
       "       'time_window'], dtype=object)"
      ]
     },
     "execution_count": 38,
     "metadata": {},
     "output_type": "execute_result"
    }
   ],
   "source": [
    "t6_test.columns.values"
   ]
  },
  {
   "cell_type": "code",
   "execution_count": 39,
   "metadata": {
    "collapsed": true
   },
   "outputs": [],
   "source": [
    "t5_test = t5_test.set_index(['intersection_id','tollgate_id','time_window'])\n",
    "t5_train = t5_train.set_index(['intersection_id','tollgate_id','time_window'])\n",
    "t6_test = t6_test.set_index(['tollgate_id','time_window', 'direction'])\n",
    "t6_train = t6_train.set_index(['tollgate_id','time_window', 'direction'])"
   ]
  },
  {
   "cell_type": "code",
   "execution_count": 42,
   "metadata": {
    "collapsed": false
   },
   "outputs": [],
   "source": [
    "t5_test.to_csv('E:\\Competetion\\KDDCUP2017_others\\KDD-CUP-2017_0\\\\dataSets\\\\big_testset_task1.csv')\n",
    "t5_train.to_csv('E:\\Competetion\\KDDCUP2017_others\\KDD-CUP-2017_0\\\\dataSets\\\\big_trainset_task1.csv')\n",
    "t6_test.to_csv('E:\\Competetion\\KDDCUP2017_others\\KDD-CUP-2017_0\\\\dataSets\\\\big_testset_task2.csv')\n",
    "t6_train.to_csv('E:\\Competetion\\KDDCUP2017_others\\KDD-CUP-2017_0\\\\dataSets\\\\big_trainset_task2.csv')"
   ]
  },
  {
   "cell_type": "markdown",
   "metadata": {},
   "source": [
    "## step7 修复问题\n",
    "* 发现测试和训练数据时间维度不同\n",
    "* 原因：pd.getdummy()是吧所有可能取值都作为一列，但是测试数据时间的取值范围要比训练集小，顾会少很多列\n",
    "* 办法：补充这些列"
   ]
  },
  {
   "cell_type": "code",
   "execution_count": 43,
   "metadata": {
    "collapsed": false
   },
   "outputs": [],
   "source": [
    "t5_testcol,t5_traincol = list(t5_test.columns.values),list(t5_train.columns.values)\n",
    "t6_testcol,t6_traincol = list(t6_test.columns.values),list(t6_train.columns.values)\n",
    "mis_5 =  [x for x in t5_traincol  if x not in t5_testcol]\n",
    "mis_6 =  [x for x in t6_traincol  if x not in t6_testcol]\n",
    "\n",
    "for label in mis_5:\n",
    "    t5_test[label] = 0\n",
    "for label in mis_6:\n",
    "    t6_test[label] = 0\n"
   ]
  },
  {
   "cell_type": "code",
   "execution_count": 44,
   "metadata": {
    "collapsed": false
   },
   "outputs": [],
   "source": [
    "# 调整各列顺序\n",
    "t5_test = t5_test[t5_traincol]\n",
    "t6_test = t6_test[t6_traincol]"
   ]
  },
  {
   "cell_type": "code",
   "execution_count": 45,
   "metadata": {
    "collapsed": true
   },
   "outputs": [],
   "source": [
    "t5_test.to_csv('E:\\Competetion\\KDDCUP2017_others\\KDD-CUP-2017_0\\\\dataSets\\\\big_testset_task1.csv')\n",
    "t5_train.to_csv('E:\\Competetion\\KDDCUP2017_others\\KDD-CUP-2017_0\\\\dataSets\\\\big_trainset_task1.csv')\n",
    "t6_test.to_csv('E:\\Competetion\\KDDCUP2017_others\\KDD-CUP-2017_0\\\\dataSets\\\\big_testset_task2.csv')\n",
    "t6_train.to_csv('E:\\Competetion\\KDDCUP2017_others\\KDD-CUP-2017_0\\\\dataSets\\\\big_trainset_task2.csv')"
   ]
  },
  {
   "cell_type": "code",
   "execution_count": null,
   "metadata": {
    "collapsed": true
   },
   "outputs": [],
   "source": []
  }
 ],
 "metadata": {
  "kernelspec": {
   "display_name": "Python 2",
   "language": "python",
   "name": "python2"
  },
  "language_info": {
   "codemirror_mode": {
    "name": "ipython",
    "version": 2
   },
   "file_extension": ".py",
   "mimetype": "text/x-python",
   "name": "python",
   "nbconvert_exporter": "python",
   "pygments_lexer": "ipython2",
   "version": "2.7.11"
  }
 },
 "nbformat": 4,
 "nbformat_minor": 2
}
