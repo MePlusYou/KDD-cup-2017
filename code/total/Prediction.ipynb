{
 "cells": [
  {
   "cell_type": "markdown",
   "metadata": {},
   "source": [
    "# task1\n",
    "\n",
    "主要参考：https://www.kaggle.com/apapiu/house-prices-advanced-regression-techniques/regularized-linear-models"
   ]
  },
  {
   "cell_type": "markdown",
   "metadata": {},
   "source": [
    "## 尝试对未增加tabel7天气信息的特征表格进行学习"
   ]
  },
  {
   "cell_type": "code",
   "execution_count": 35,
   "metadata": {
    "collapsed": false
   },
   "outputs": [],
   "source": [
    "# coding:utf-8\n",
    "import pandas as pd\n",
    "import numpy as np\n",
    "# train = pd.read_csv('..\\..\\\\data_pre\\\\table3456_train_task1.csv').set_index(['intersection_id','tollgate_id','time_window'])\n",
    "# test = pd.read_csv('..\\..\\\\data_pre\\\\table3456_test_task1.csv').set_index(['intersection_id','tollgate_id','time_window'])\n",
    "train = pd.read_csv('..\\..\\\\data_pre\\\\table34567_train_task1.csv').set_index(['intersection_id','tollgate_id','time_window'])\n",
    "test = pd.read_csv('..\\..\\\\data_pre\\\\table34567_test_task1.csv').set_index(['intersection_id','tollgate_id','time_window'])"
   ]
  },
  {
   "cell_type": "code",
   "execution_count": 36,
   "metadata": {
    "collapsed": false
   },
   "outputs": [
    {
     "name": "stdout",
     "output_type": "stream",
     "text": [
      "(25648, 56) (504, 56)\n"
     ]
    }
   ],
   "source": [
    "print train.shape, test.shape"
   ]
  },
  {
   "cell_type": "code",
   "execution_count": 37,
   "metadata": {
    "collapsed": true
   },
   "outputs": [],
   "source": [
    "X_train = train.drop('avg_travel_time',axis=1).values\n",
    "X_test = test.drop('avg_travel_time',axis=1).values\n",
    "y = train.avg_travel_time.values"
   ]
  },
  {
   "cell_type": "code",
   "execution_count": 38,
   "metadata": {
    "collapsed": true
   },
   "outputs": [],
   "source": [
    "del test,train"
   ]
  },
  {
   "cell_type": "code",
   "execution_count": 39,
   "metadata": {
    "collapsed": false
   },
   "outputs": [
    {
     "name": "stdout",
     "output_type": "stream",
     "text": [
      "[-0.26767211 -0.26139597 -0.25970186 -0.34983964 -0.29898495 -0.22010344\n",
      " -0.21219085 -0.25106534 -0.25217831 -0.24337574]\n"
     ]
    }
   ],
   "source": [
    "# 尝试基本的线性回归及正则化线性回归模型\n",
    "from sklearn.linear_model import LinearRegression\n",
    "from sklearn.linear_model import Lasso\n",
    "from sklearn.linear_model import Ridge\n",
    "from sklearn.linear_model import ElasticNet\n",
    "from sklearn.model_selection import cross_val_score\n",
    "from sklearn.grid_search import GridSearchCV\n",
    "from sklearn.metrics.scorer import make_scorer\n",
    "from sklearn.utils import check_array\n",
    "# 定义评分函数\n",
    "def MAPE(y_true, y_pred):\n",
    "    return np.mean(np.abs((y_true - y_pred) / y_true))\n",
    "score = make_scorer(MAPE, greater_is_better=False)\n",
    "\n",
    "LR = LinearRegression()\n",
    "# Sklearn 计算模型的负均方误差，所以我们需要先取负再开根号得到我们的参数均方根误差\n",
    "# cv = 5 会将数据分成大小相似的10份，轮流用9份用来训练，１份用来评估计算得分，会得到10个得分\n",
    "test_score = cross_val_score(LR, X_train, y, cv=10, scoring=score)\n",
    "print(test_score)"
   ]
  },
  {
   "cell_type": "code",
   "execution_count": 42,
   "metadata": {
    "collapsed": false
   },
   "outputs": [
    {
     "data": {
      "image/png": "[encoded data removed]",
      "text/plain": [
       "<matplotlib.figure.Figure at 0xba81f98>"
      ]
     },
     "metadata": {},
     "output_type": "display_data"
    }
   ],
   "source": [
    "# ridge回归\n",
    "import seaborn as sns\n",
    "import matplotlib\n",
    "import matplotlib.pyplot as plt\n",
    "%matplotlib inline\n",
    "alphas = np.linspace(30.6, 50.6, 100)\n",
    "test_scores = []\n",
    "results = []\n",
    "for alpha in alphas:\n",
    "    clf = Ridge(alpha)\n",
    "    test_score = cross_val_score(clf, X_train, y, cv=10, scoring=score)\n",
    "    test_scores.append(np.mean(test_score))\n",
    "    results.append([alpha, np.mean(test_score)])\n",
    "plt.plot(alphas, test_scores)\n",
    "plt.title(\"Alpha vs MAPE\");"
   ]
  },
  {
   "cell_type": "code",
   "execution_count": 43,
   "metadata": {
    "collapsed": false
   },
   "outputs": [
    {
     "data": {
      "text/plain": [
       "[45.953535353535358, -0.26121118919240838]"
      ]
     },
     "execution_count": 43,
     "metadata": {},
     "output_type": "execute_result"
    }
   ],
   "source": [
    "results = sorted(results, key=lambda x:-x[1])\n",
    "results[0]"
   ]
  },
  {
   "cell_type": "markdown",
   "metadata": {},
   "source": [
    "#### 模型１：Ridge(45.95) 得分0.26121118919240838"
   ]
  },
  {
   "cell_type": "code",
   "execution_count": 44,
   "metadata": {
    "collapsed": false
   },
   "outputs": [
    {
     "name": "stdout",
     "output_type": "stream",
     "text": [
      "[CV]  ................................................................\n",
      "[CV] ................................................. , total=  28.1s\n",
      "[CV]  ................................................................\n"
     ]
    },
    {
     "name": "stderr",
     "output_type": "stream",
     "text": [
      "[Parallel(n_jobs=1)]: Done   1 out of   1 | elapsed:   28.1s remaining:    0.0s\n"
     ]
    },
    {
     "name": "stdout",
     "output_type": "stream",
     "text": [
      "[CV] ................................................. , total=  30.2s\n",
      "[CV]  ................................................................\n",
      "[CV] ................................................. , total=  28.5s\n",
      "[CV]  ................................................................\n",
      "[CV] ................................................. , total=  28.4s\n",
      "[CV]  ................................................................\n",
      "[CV] ................................................. , total=  27.6s\n",
      "[CV]  ................................................................\n",
      "[CV] ................................................. , total=  27.3s\n",
      "[CV]  ................................................................\n",
      "[CV] ................................................. , total=  26.8s\n",
      "[CV]  ................................................................\n",
      "[CV] ................................................. , total=  27.1s\n",
      "[CV]  ................................................................\n",
      "[CV] ................................................. , total=  26.5s\n",
      "[CV]  ................................................................\n",
      "[CV] ................................................. , total=  28.1s\n",
      "[-0.26797633 -0.2621586  -0.25899631 -0.3512512  -0.29768274 -0.22003653\n",
      " -0.2129881  -0.25166387 -0.24997532 -0.23939004]\n"
     ]
    },
    {
     "name": "stderr",
     "output_type": "stream",
     "text": [
      "[Parallel(n_jobs=1)]: Done  10 out of  10 | elapsed:  4.7min finished\n"
     ]
    }
   ],
   "source": [
    "# Xgboost\n",
    "import os\n",
    "mingw_path = 'C:\\Program Files\\mingw-w64\\\\x86_64-6.3.0-posix-seh-rt_v5-rev1\\mingw64\\\\bin'\n",
    "os.environ['PATH'] = mingw_path + ';' + os.environ['PATH']\n",
    "import xgboost as xgb\n",
    "regr = xgb.XGBRegressor(\n",
    "                 colsample_bytree=0.2,\n",
    "                 gamma=0.0,\n",
    "                 learning_rate=0.02,\n",
    "                 max_depth=7,\n",
    "                 min_child_weight=1.5,\n",
    "                 n_estimators=3000,                                                                  \n",
    "                 reg_alpha=0.9,\n",
    "                 reg_lambda=0.6,\n",
    "                 subsample=0.2,\n",
    "                 seed=42,\n",
    "                 silent=1)\n",
    "\n",
    "est_score = cross_val_score(regr, X_train, y, cv=10, scoring=score,verbose=2)\n",
    "print(test_score)"
   ]
  },
  {
   "cell_type": "code",
   "execution_count": 45,
   "metadata": {
    "collapsed": false
   },
   "outputs": [
    {
     "name": "stdout",
     "output_type": "stream",
     "text": [
      "-0.290897244397\n"
     ]
    }
   ],
   "source": [
    "print(np.mean(est_score))"
   ]
  },
  {
   "cell_type": "markdown",
   "metadata": {},
   "source": [
    "## 输出结果"
   ]
  },
  {
   "cell_type": "code",
   "execution_count": 49,
   "metadata": {
    "collapsed": false
   },
   "outputs": [
    {
     "data": {
      "text/html": [
       "<div>\n",
       "<style>\n",
       "    .dataframe thead tr:only-child th {\n",
       "        text-align: right;\n",
       "    }\n",
       "\n",
       "    .dataframe thead th {\n",
       "        text-align: left;\n",
       "    }\n",
       "\n",
       "    .dataframe tbody tr th {\n",
       "        vertical-align: top;\n",
       "    }\n",
       "</style>\n",
       "<table border=\"1\" class=\"dataframe\">\n",
       "  <thead>\n",
       "    <tr style=\"text-align: right;\">\n",
       "      <th></th>\n",
       "      <th>intersection_id</th>\n",
       "      <th>tollgate_id</th>\n",
       "      <th>time_window</th>\n",
       "      <th>avg_travel_time</th>\n",
       "    </tr>\n",
       "  </thead>\n",
       "  <tbody>\n",
       "    <tr>\n",
       "      <th>0</th>\n",
       "      <td>A</td>\n",
       "      <td>2</td>\n",
       "      <td>[2016-10-18 08:00:00,2016-10-18 08:20:00)</td>\n",
       "      <td>93.444313</td>\n",
       "    </tr>\n",
       "    <tr>\n",
       "      <th>1</th>\n",
       "      <td>A</td>\n",
       "      <td>3</td>\n",
       "      <td>[2016-10-18 08:00:00,2016-10-18 08:20:00)</td>\n",
       "      <td>195.134811</td>\n",
       "    </tr>\n",
       "    <tr>\n",
       "      <th>2</th>\n",
       "      <td>B</td>\n",
       "      <td>1</td>\n",
       "      <td>[2016-10-18 08:00:00,2016-10-18 08:20:00)</td>\n",
       "      <td>149.858368</td>\n",
       "    </tr>\n",
       "    <tr>\n",
       "      <th>3</th>\n",
       "      <td>B</td>\n",
       "      <td>3</td>\n",
       "      <td>[2016-10-18 08:00:00,2016-10-18 08:20:00)</td>\n",
       "      <td>116.513329</td>\n",
       "    </tr>\n",
       "    <tr>\n",
       "      <th>4</th>\n",
       "      <td>C</td>\n",
       "      <td>1</td>\n",
       "      <td>[2016-10-18 08:00:00,2016-10-18 08:20:00)</td>\n",
       "      <td>185.206314</td>\n",
       "    </tr>\n",
       "  </tbody>\n",
       "</table>\n",
       "</div>"
      ],
      "text/plain": [
       "  intersection_id  tollgate_id                                time_window  \\\n",
       "0               A            2  [2016-10-18 08:00:00,2016-10-18 08:20:00)   \n",
       "1               A            3  [2016-10-18 08:00:00,2016-10-18 08:20:00)   \n",
       "2               B            1  [2016-10-18 08:00:00,2016-10-18 08:20:00)   \n",
       "3               B            3  [2016-10-18 08:00:00,2016-10-18 08:20:00)   \n",
       "4               C            1  [2016-10-18 08:00:00,2016-10-18 08:20:00)   \n",
       "\n",
       "   avg_travel_time  \n",
       "0        93.444313  \n",
       "1       195.134811  \n",
       "2       149.858368  \n",
       "3       116.513329  \n",
       "4       185.206314  "
      ]
     },
     "execution_count": 49,
     "metadata": {},
     "output_type": "execute_result"
    }
   ],
   "source": [
    "# 训练，预测\n",
    "regr.fit(X_train, y)\n",
    "# test = pd.read_csv('..\\..\\\\data_pre\\\\table3456_test_task1.csv').set_index(['intersection_id','tollgate_id','time_window'])\n",
    "test = pd.read_csv('..\\..\\\\data_pre\\\\table34567_test_task1.csv').set_index(['intersection_id','tollgate_id','time_window'])\n",
    "test['avg_travel_time'] = regr.predict(X_test)\n",
    "test = test.reset_index()\n",
    "test = test[['intersection_id','tollgate_id','time_window','avg_travel_time']]\n",
    "test.head()"
   ]
  },
  {
   "cell_type": "code",
   "execution_count": 50,
   "metadata": {
    "collapsed": true
   },
   "outputs": [],
   "source": [
    "test.to_csv('..\\..\\\\result\\\\xgboost_ver2.csv', index=False)"
   ]
  }
 ],
 "metadata": {
  "kernelspec": {
   "display_name": "Python 2",
   "language": "python",
   "name": "python2"
  },
  "language_info": {
   "codemirror_mode": {
    "name": "ipython",
    "version": 2
   },
   "file_extension": ".py",
   "mimetype": "text/x-python",
   "name": "python",
   "nbconvert_exporter": "python",
   "pygments_lexer": "ipython2",
   "version": "2.7.11"
  }
 },
 "nbformat": 4,
 "nbformat_minor": 2
}
